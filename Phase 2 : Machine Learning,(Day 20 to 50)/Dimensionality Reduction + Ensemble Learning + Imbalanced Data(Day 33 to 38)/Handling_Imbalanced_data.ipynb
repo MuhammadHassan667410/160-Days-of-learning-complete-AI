{
  "cells": [
    {
      "cell_type": "markdown",
      "metadata": {
        "id": "view-in-github",
        "colab_type": "text"
      },
      "source": [
        "<a href=\"https://colab.research.google.com/github/MuhammadHassan667410/160-Days-of-learning-complete-AI/blob/main/Phase%202%20%3A%20Machine%20Learning%2C(Day%2020%20to%2050)/Dimensionality%20Reduction%20%2B%20Ensemble%20Learning%20%2B%20Imbalanced%20Data(Day%2033%20to%2038)/Handling_Imbalanced_data.ipynb\" target=\"_parent\"><img src=\"https://colab.research.google.com/assets/colab-badge.svg\" alt=\"Open In Colab\"/></a>"
      ]
    },
    {
      "cell_type": "code",
      "execution_count": null,
      "id": "71cd274f-8287-4bbd-b7cc-74b114445ae4",
      "metadata": {
        "id": "71cd274f-8287-4bbd-b7cc-74b114445ae4"
      },
      "outputs": [],
      "source": [
        "import pandas as pd\n",
        "import numpy as np\n",
        "import seaborn as sns"
      ]
    },
    {
      "cell_type": "code",
      "execution_count": null,
      "id": "a48c526d-bbc9-4184-aed3-3501e7393d77",
      "metadata": {
        "scrolled": true,
        "id": "a48c526d-bbc9-4184-aed3-3501e7393d77",
        "outputId": "1abaee60-421b-40b0-f3da-e0b7600f9979"
      },
      "outputs": [
        {
          "name": "stdout",
          "output_type": "stream",
          "text": [
            "Original class distribution:\n",
            "0    4500\n",
            "1     500\n",
            "Name: count, dtype: int64\n"
          ]
        }
      ],
      "source": [
        "from sklearn.datasets import make_classification\n",
        "x, y = make_classification(n_samples=5000, n_features=20, n_informative=10, n_redundant=5,\n",
        "                           n_classes=2, weights=[0.9, 0.1], flip_y=0, random_state=42)\n",
        "\n",
        "print(\"Original class distribution:\")\n",
        "print(pd.Series(y).value_counts())\n"
      ]
    },
    {
      "cell_type": "code",
      "execution_count": null,
      "id": "bf6165db-9127-4dbd-827b-7bd26b1bc20b",
      "metadata": {
        "id": "bf6165db-9127-4dbd-827b-7bd26b1bc20b"
      },
      "outputs": [],
      "source": [
        "from sklearn.model_selection import train_test_split\n",
        "x_train, x_test, y_train, y_test = train_test_split(x, y, test_size=0.2, stratify=y, random_state=42)\n"
      ]
    },
    {
      "cell_type": "markdown",
      "id": "08a21044-2740-4c1d-901c-61f59c95eaa7",
      "metadata": {
        "id": "08a21044-2740-4c1d-901c-61f59c95eaa7"
      },
      "source": [
        "# Baseline Model (Before Handling Imbalance)"
      ]
    },
    {
      "cell_type": "code",
      "execution_count": null,
      "id": "c7c8f3b8-0b9b-4255-a7c0-e67eda8948f0",
      "metadata": {
        "id": "c7c8f3b8-0b9b-4255-a7c0-e67eda8948f0"
      },
      "outputs": [],
      "source": [
        "from sklearn.ensemble import RandomForestClassifier\n",
        "rfc = RandomForestClassifier(random_state=42)\n",
        "base_model = rfc.fit(x_train, y_train)\n",
        "y_pred_bm = rfc.predict(x_test)"
      ]
    },
    {
      "cell_type": "code",
      "execution_count": null,
      "id": "0d527892-a619-49a3-bcfd-dee30a25825f",
      "metadata": {
        "id": "0d527892-a619-49a3-bcfd-dee30a25825f"
      },
      "outputs": [],
      "source": [
        "from sklearn.metrics import classification_report, confusion_matrix, roc_auc_score"
      ]
    },
    {
      "cell_type": "code",
      "execution_count": null,
      "id": "513f83ae-a573-4ec2-ab19-3ce3f2659177",
      "metadata": {
        "id": "513f83ae-a573-4ec2-ab19-3ce3f2659177",
        "outputId": "e7d90db7-8c70-4a16-b94f-dacd28191ef5"
      },
      "outputs": [
        {
          "name": "stdout",
          "output_type": "stream",
          "text": [
            "Baseline Model:\n",
            "[[900   0]\n",
            " [ 43  57]]\n",
            "              precision    recall  f1-score   support\n",
            "\n",
            "           0       0.95      1.00      0.98       900\n",
            "           1       1.00      0.57      0.73       100\n",
            "\n",
            "    accuracy                           0.96      1000\n",
            "   macro avg       0.98      0.78      0.85      1000\n",
            "weighted avg       0.96      0.96      0.95      1000\n",
            "\n",
            "ROC AUC: 0.973538888888889\n"
          ]
        }
      ],
      "source": [
        "print(\"Baseline Model:\")\n",
        "print(confusion_matrix(y_test, y_pred_bm))\n",
        "print(classification_report(y_test, y_pred_bm))\n",
        "print(\"ROC AUC:\", roc_auc_score(y_test, rfc.predict_proba(x_test)[:,1]))"
      ]
    },
    {
      "cell_type": "markdown",
      "id": "4cf6f161-0903-43ed-9a34-d46eb1bbbb5c",
      "metadata": {
        "id": "4cf6f161-0903-43ed-9a34-d46eb1bbbb5c"
      },
      "source": [
        "# Apply SMOTE (Oversampling)"
      ]
    },
    {
      "cell_type": "code",
      "execution_count": null,
      "id": "916de4cb-b69a-4814-990f-7b88bb55ff39",
      "metadata": {
        "collapsed": true,
        "jupyter": {
          "outputs_hidden": true
        },
        "scrolled": true,
        "id": "916de4cb-b69a-4814-990f-7b88bb55ff39",
        "outputId": "4dad501f-2835-4211-f382-79d234ebe975"
      },
      "outputs": [
        {
          "name": "stdout",
          "output_type": "stream",
          "text": [
            "Defaulting to user installation because normal site-packages is not writeable\n",
            "Requirement already satisfied: imblearn in c:\\users\\taj\\appdata\\roaming\\python\\python313\\site-packages (0.0)\n",
            "Requirement already satisfied: imbalanced-learn in c:\\users\\taj\\appdata\\roaming\\python\\python313\\site-packages (from imblearn) (0.13.0)\n",
            "Requirement already satisfied: numpy<3,>=1.24.3 in c:\\users\\taj\\appdata\\roaming\\python\\python313\\site-packages (from imbalanced-learn->imblearn) (2.3.1)\n",
            "Requirement already satisfied: scipy<2,>=1.10.1 in c:\\users\\taj\\appdata\\roaming\\python\\python313\\site-packages (from imbalanced-learn->imblearn) (1.16.0)\n",
            "Requirement already satisfied: scikit-learn<2,>=1.3.2 in c:\\users\\taj\\appdata\\roaming\\python\\python313\\site-packages (from imbalanced-learn->imblearn) (1.6.1)\n",
            "Requirement already satisfied: sklearn-compat<1,>=0.1 in c:\\users\\taj\\appdata\\roaming\\python\\python313\\site-packages (from imbalanced-learn->imblearn) (0.1.3)\n",
            "Requirement already satisfied: joblib<2,>=1.1.1 in c:\\users\\taj\\appdata\\roaming\\python\\python313\\site-packages (from imbalanced-learn->imblearn) (1.5.1)\n",
            "Requirement already satisfied: threadpoolctl<4,>=2.0.0 in c:\\users\\taj\\appdata\\roaming\\python\\python313\\site-packages (from imbalanced-learn->imblearn) (3.6.0)\n",
            "Note: you may need to restart the kernel to use updated packages.\n"
          ]
        },
        {
          "name": "stderr",
          "output_type": "stream",
          "text": [
            "\n",
            "[notice] A new release of pip is available: 25.1.1 -> 25.2\n",
            "[notice] To update, run: python.exe -m pip install --upgrade pip\n"
          ]
        }
      ],
      "source": [
        "pip install imblearn"
      ]
    },
    {
      "cell_type": "code",
      "execution_count": null,
      "id": "7baceb32-26dc-4f1d-b997-73c6fe9dff3a",
      "metadata": {
        "id": "7baceb32-26dc-4f1d-b997-73c6fe9dff3a"
      },
      "outputs": [],
      "source": [
        "from imblearn.over_sampling import SMOTE\n",
        "smote = SMOTE(random_state=42)"
      ]
    },
    {
      "cell_type": "code",
      "execution_count": null,
      "id": "25ba5334-1c11-45e8-a2bc-984f98ad8f0a",
      "metadata": {
        "id": "25ba5334-1c11-45e8-a2bc-984f98ad8f0a"
      },
      "outputs": [],
      "source": [
        "x_res, y_res = smote.fit_resample(x_train, y_train)"
      ]
    },
    {
      "cell_type": "code",
      "execution_count": null,
      "id": "2ae90b4d-26f5-46f2-a054-6741fff5f08f",
      "metadata": {
        "id": "2ae90b4d-26f5-46f2-a054-6741fff5f08f",
        "outputId": "2ccbf001-5afe-47d2-adcf-257a382e307b"
      },
      "outputs": [
        {
          "name": "stdout",
          "output_type": "stream",
          "text": [
            "After SMOTE:\n",
            "0    3600\n",
            "1    3600\n",
            "Name: count, dtype: int64\n"
          ]
        }
      ],
      "source": [
        "print(\"After SMOTE:\")\n",
        "print(pd.Series(y_res).value_counts())\n"
      ]
    },
    {
      "cell_type": "code",
      "execution_count": null,
      "id": "ccb6d522-da18-4ec6-98f6-ce3097eb33ba",
      "metadata": {
        "id": "ccb6d522-da18-4ec6-98f6-ce3097eb33ba"
      },
      "outputs": [],
      "source": [
        "smote_model = RandomForestClassifier(random_state=42)\n",
        "smote_model.fit(x_res, y_res)\n",
        "y_pred_smt = smote_model.predict(x_test)"
      ]
    },
    {
      "cell_type": "code",
      "execution_count": null,
      "id": "8a7fa2bb-25cd-495b-b656-4a4a2ef18130",
      "metadata": {
        "id": "8a7fa2bb-25cd-495b-b656-4a4a2ef18130",
        "outputId": "cafcf0ee-974e-46f5-a259-6209b26d72f3"
      },
      "outputs": [
        {
          "name": "stdout",
          "output_type": "stream",
          "text": [
            "SMOTE Model:\n",
            "[[889  11]\n",
            " [ 21  79]]\n",
            "              precision    recall  f1-score   support\n",
            "\n",
            "           0       0.98      0.99      0.98       900\n",
            "           1       0.88      0.79      0.83       100\n",
            "\n",
            "    accuracy                           0.97      1000\n",
            "   macro avg       0.93      0.89      0.91      1000\n",
            "weighted avg       0.97      0.97      0.97      1000\n",
            "\n",
            "ROC AUC: 0.9903277777777778\n"
          ]
        }
      ],
      "source": [
        "print(\"SMOTE Model:\")\n",
        "print(confusion_matrix(y_test, y_pred_smt))\n",
        "print(classification_report(y_test, y_pred_smt))\n",
        "print(\"ROC AUC:\", roc_auc_score(y_test, smote_model.predict_proba(x_test)[:,1]))"
      ]
    },
    {
      "cell_type": "markdown",
      "id": "66008bd7-3f12-4b25-8a2d-606774650875",
      "metadata": {
        "id": "66008bd7-3f12-4b25-8a2d-606774650875"
      },
      "source": [
        "# Apply Random Undersampling"
      ]
    },
    {
      "cell_type": "code",
      "execution_count": null,
      "id": "41731e21-dd60-499b-a3a4-4f2a7da61c6c",
      "metadata": {
        "id": "41731e21-dd60-499b-a3a4-4f2a7da61c6c"
      },
      "outputs": [],
      "source": [
        "from imblearn.under_sampling import RandomUnderSampler\n",
        "rus = RandomUnderSampler(random_state=42)"
      ]
    },
    {
      "cell_type": "code",
      "execution_count": null,
      "id": "d81f6e06-1510-4536-8d1c-0dbc349598b2",
      "metadata": {
        "id": "d81f6e06-1510-4536-8d1c-0dbc349598b2"
      },
      "outputs": [],
      "source": [
        "x_rus, y_rus = rus.fit_resample(x_train, y_train)"
      ]
    },
    {
      "cell_type": "code",
      "execution_count": null,
      "id": "fbe68c98-434a-42d1-b4c5-a131ececf680",
      "metadata": {
        "id": "fbe68c98-434a-42d1-b4c5-a131ececf680",
        "outputId": "e34c2f62-0050-4a17-f96b-c4e42a978642"
      },
      "outputs": [
        {
          "name": "stdout",
          "output_type": "stream",
          "text": [
            "After Undersampling:\n",
            "0    400\n",
            "1    400\n",
            "Name: count, dtype: int64\n"
          ]
        }
      ],
      "source": [
        "print(\"After Undersampling:\")\n",
        "print(pd.Series(y_rus).value_counts())\n"
      ]
    },
    {
      "cell_type": "code",
      "execution_count": null,
      "id": "232936af-b6d7-4a6e-9d19-0cef072cb44f",
      "metadata": {
        "id": "232936af-b6d7-4a6e-9d19-0cef072cb44f"
      },
      "outputs": [],
      "source": [
        "model_rus = RandomForestClassifier(random_state=42)\n",
        "model_rus.fit(x_rus, y_rus)\n",
        "y_pred_rus = model_rus.predict(x_test)"
      ]
    },
    {
      "cell_type": "code",
      "execution_count": null,
      "id": "6e9a7385-5551-43f7-85b5-b86f85f0164a",
      "metadata": {
        "id": "6e9a7385-5551-43f7-85b5-b86f85f0164a",
        "outputId": "5a4c9035-8294-401b-debc-f400b05b2173"
      },
      "outputs": [
        {
          "name": "stdout",
          "output_type": "stream",
          "text": [
            "Undersampling Model:\n",
            "[[844  56]\n",
            " [  6  94]]\n",
            "              precision    recall  f1-score   support\n",
            "\n",
            "           0       0.99      0.94      0.96       900\n",
            "           1       0.63      0.94      0.75       100\n",
            "\n",
            "    accuracy                           0.94      1000\n",
            "   macro avg       0.81      0.94      0.86      1000\n",
            "weighted avg       0.96      0.94      0.94      1000\n",
            "\n",
            "ROC AUC: 0.9790999999999999\n"
          ]
        }
      ],
      "source": [
        "print(\"Undersampling Model:\")\n",
        "print(confusion_matrix(y_test, y_pred_rus))\n",
        "print(classification_report(y_test, y_pred_rus))\n",
        "print(\"ROC AUC:\", roc_auc_score(y_test, model_rus.predict_proba(x_test)[:,1]))"
      ]
    },
    {
      "cell_type": "markdown",
      "id": "9798f7ba-34c1-4e43-8f7d-d587fb7334c2",
      "metadata": {
        "id": "9798f7ba-34c1-4e43-8f7d-d587fb7334c2"
      },
      "source": [
        "# Comparison"
      ]
    },
    {
      "cell_type": "code",
      "execution_count": null,
      "id": "061bd37d-6dc7-43e3-a929-91dc77c87af2",
      "metadata": {
        "id": "061bd37d-6dc7-43e3-a929-91dc77c87af2",
        "outputId": "e2b41199-d58c-4e79-a5dc-1bb113a78479"
      },
      "outputs": [
        {
          "data": {
            "image/png": "[encoded data removed]",
            "text/plain": [
              "<Figure size 640x480 with 1 Axes>"
            ]
          },
          "metadata": {},
          "output_type": "display_data"
        }
      ],
      "source": [
        "labels = ['Baseline', 'SMOTE', 'Undersample']\n",
        "scores = [\n",
        "    roc_auc_score(y_test, base_model.predict_proba(x_test)[:,1]),\n",
        "    roc_auc_score(y_test, smote_model.predict_proba(x_test)[:,1]),\n",
        "    roc_auc_score(y_test, model_rus.predict_proba(x_test)[:,1])\n",
        "]\n",
        "import matplotlib.pyplot as plt\n",
        "sns.barplot(x=labels, y=scores)\n",
        "plt.ylabel('ROC AUC Score')\n",
        "plt.title('Model Comparison')\n",
        "plt.ylim(0.5, 1.0)\n",
        "plt.show()\n"
      ]
    },
    {
      "cell_type": "code",
      "execution_count": null,
      "id": "49600690-d21f-46a3-8edf-a4eaf57a9be7",
      "metadata": {
        "id": "49600690-d21f-46a3-8edf-a4eaf57a9be7"
      },
      "outputs": [],
      "source": []
    }
  ],
  "metadata": {
    "kernelspec": {
      "display_name": "Python 3 (ipykernel)",
      "language": "python",
      "name": "python3"
    },
    "language_info": {
      "codemirror_mode": {
        "name": "ipython",
        "version": 3
      },
      "file_extension": ".py",
      "mimetype": "text/x-python",
      "name": "python",
      "nbconvert_exporter": "python",
      "pygments_lexer": "ipython3",
      "version": "3.13.5"
    },
    "colab": {
      "provenance": [],
      "include_colab_link": true
    }
  },
  "nbformat": 4,
  "nbformat_minor": 5
}